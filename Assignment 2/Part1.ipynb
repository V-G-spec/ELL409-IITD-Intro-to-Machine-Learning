{
 "cells": [
  {
   "cell_type": "markdown",
   "id": "1ae78186-7827-44d6-bc5d-45080db3b8a1",
   "metadata": {},
   "source": [
    "## Imports and data-reading"
   ]
  },
  {
   "cell_type": "code",
   "execution_count": 1,
   "id": "f6074cef-fa8f-4d97-a329-6688f440869b",
   "metadata": {},
   "outputs": [],
   "source": [
    "import pandas as pd\n",
    "# !pip install cvxopt\n",
    "import numpy as np\n",
    "import matplotlib.pyplot as plt\n",
    "from cvxopt import matrix, solvers\n",
    "from sklearn.model_selection import train_test_split, GridSearchCV\n",
    "from sklearn.preprocessing import StandardScaler\n",
    "from sklearn.pipeline import Pipeline\n",
    "from sklearn import svm\n",
    "from sklearn.svm import SVC\n",
    "from sklearn import datasets"
   ]
  },
  {
   "cell_type": "markdown",
   "id": "f14a2f15-9e5d-4d03-a593-228e9a32e115",
   "metadata": {},
   "source": [
    "## Useful Functions for any part"
   ]
  },
  {
   "cell_type": "markdown",
   "id": "46c5dc98-0282-4b2d-a7e9-88c494ebd714",
   "metadata": {},
   "source": [
    "### For SVM/SVC plotting"
   ]
  },
  {
   "cell_type": "code",
   "execution_count": 75,
   "id": "cd494fc1-02a2-46c7-80a4-f4c89cb13301",
   "metadata": {},
   "outputs": [],
   "source": [
    "def plot_it_all_poly(train_X, train_y, test_X, test_y, reg_pam, ker_coeff_pam):\n",
    "\n",
    "    ######################################### 3D plot ########################################\n",
    "    Z = np.ones((len(reg_pam),len(ker_coeff_pam)))\n",
    "    W = np.ones((len(reg_pam),len(ker_coeff_pam)))\n",
    "    X, Y = np.meshgrid(reg_pam, ker_coeff_pam)\n",
    "\n",
    "\n",
    "    for idxc, c in enumerate(reg_pam):\n",
    "        for idxg, g in enumerate(ker_coeff_pam):\n",
    "            ppl = [('scaler', StandardScaler()), ('SVM', svm.SVC(kernel='poly', C = c, gamma = g))]\n",
    "            pipeline = Pipeline(ppl) \n",
    "            mod = pipeline\n",
    "#             mod = svm.SVC(kernel='poly', C = c, gamma = g)\n",
    "            mod.fit(train_X, np.ravel(train_y, order='C'))\n",
    "            Z[idxc][idxg] = mod.score(train_X, train_y)\n",
    "            W[idxc][idxg] = mod.score(test_X, test_y)\n",
    "\n",
    "    # print(X, Y, Z, W, X.shape, Y.shape, Z.shape, W.shape)\n",
    "\n",
    "    fig = plt.figure()\n",
    "    ax = fig.add_subplot(111, projection='3d')\n",
    "    ax.plot_wireframe(np.log10(X), np.log10(Y), Z, rstride=1, cstride=1, label='train', color='blue' )\n",
    "    ax.plot_wireframe(np.log10(X), np.log10(Y), W, rstride=1, cstride=1, label='test', color='red')\n",
    "    ax.set_title('Poly kernel: C and Gamma Vs Accuracy')\n",
    "    ax.set_xlabel('log(C)')\n",
    "    ax.set_ylabel('log(Gamma)')\n",
    "\n",
    "    plt.legend()\n",
    "    plt.show()\n",
    "\n",
    "\n",
    "    ######################################## My conventional plots ########################################\n",
    "    for idxc, c in enumerate(reg_pam):\n",
    "        E_score_train = []\n",
    "        E_score_test = []\n",
    "\n",
    "        for idxg, g in enumerate(ker_coeff_pam):\n",
    "            ppl = [('scaler', StandardScaler()), ('SVM', svm.SVC(kernel='poly', C = c, gamma = g))]\n",
    "            pipeline = Pipeline(ppl) \n",
    "            mod = pipeline\n",
    "            #mod = svm.SVC(kernel='poly', C = c, gamma = g)\n",
    "            mod.fit(train_X, np.ravel(train_y, order='C'))\n",
    "            E_score_train.append(mod.score(train_X, train_y))\n",
    "            E_score_test.append(mod.score(test_X, test_y))\n",
    "\n",
    "        plt.plot(ker_coeff_pam, E_score_test, \"r-\", label=\"Test\")\n",
    "        plt.plot(ker_coeff_pam, E_score_train, \"b-\", label=\"Train\")\n",
    "        plt.xscale('log')\n",
    "        plt.xlabel(r'$\\Gamma$')\n",
    "        plt.ylabel('Score')\n",
    "        plt.legend()\n",
    "        plt.title('Score for C=%s'%(c))\n",
    "        plt.show()\n",
    "\n",
    "\n",
    "        \n",
    "def plot_it_all_linear(train_X, train_y, test_X, test_y, reg_pam):\n",
    "\n",
    "    ######################################## My conventional plots ########################################\n",
    "    E_score_train = []\n",
    "    E_score_test = []\n",
    "\n",
    "    for idxc, c in enumerate(reg_pam):    \n",
    "        ppl = [('scaler', StandardScaler()), ('SVM', svm.SVC(kernel='linear', C = c))]\n",
    "        pipeline = Pipeline(ppl) \n",
    "        mod = pipeline\n",
    "#         mod = svm.SVC(kernel='poly', C = c, gamma = g)\n",
    "        mod.fit(train_X, np.ravel(train_y, order='C'))\n",
    "        E_score_train.append(mod.score(train_X, train_y))\n",
    "        E_score_test.append(mod.score(test_X, test_y))\n",
    "\n",
    "    plt.plot(reg_pam, E_score_test, \"r-\", label=\"Test\")\n",
    "    plt.plot(reg_pam, E_score_train, \"b-\", label=\"Train\")\n",
    "    plt.xscale('log')\n",
    "    plt.xlabel('C')\n",
    "    plt.ylabel('Score')\n",
    "    plt.legend()\n",
    "#     plt.title('Score for C=%s'%(c))\n",
    "    plt.show()\n",
    "\n",
    "        \n",
    "        \n",
    "        \n",
    "######################################## PLOTS FOR GRID SEARCH ########################################\n",
    "\n",
    "def plot_search_results(grid):\n",
    "    # Reference: https://stackoverflow.com/questions/37161563/how-to-graph-grid-scores-from-gridsearchcv\n",
    "    \"\"\"\n",
    "    Params: \n",
    "        grid: A trained GridSearchCV object.\n",
    "    \"\"\"\n",
    "    ## Results from grid search\n",
    "    results = grid.cv_results_\n",
    "    means_test = results['mean_test_score']\n",
    "    stds_test = results['std_test_score']\n",
    "    means_train = results['mean_train_score']\n",
    "    stds_train = results['std_train_score']\n",
    "\n",
    "    ## Getting indexes of values per hyper-parameter\n",
    "    masks=[]\n",
    "    masks_names= list(grid.best_params_.keys())\n",
    "    for p_k, p_v in grid.best_params_.items():\n",
    "        masks.append(list(results['param_'+p_k].data==p_v))\n",
    "\n",
    "    params=grid.param_grid\n",
    "\n",
    "    ## Ploting results\n",
    "    fig, ax = plt.subplots(1,len(params),sharex='none', sharey=False,figsize=(len(params)*10,len(params)*2.5))\n",
    "    fig.suptitle('Score per parameter')\n",
    "    fig.text(0.085, 0.5, 'MEAN SCORE', va='center', rotation='vertical')\n",
    "    pram_preformace_in_best = {}\n",
    "    for i, p in enumerate(masks_names):\n",
    "        m = np.stack(masks[:i] + masks[i+1:])\n",
    "#         m=np.array(masks[:i])\n",
    "        pram_preformace_in_best\n",
    "        best_parms_mask = m.all(axis=0)\n",
    "        best_index = np.where(best_parms_mask)[0]\n",
    "        x = np.array(params[p])\n",
    "        y_1 = np.array(means_test[best_index])\n",
    "        e_1 = np.array(stds_test[best_index])\n",
    "        y_2 = np.array(means_train[best_index])\n",
    "        e_2 = np.array(stds_train[best_index])\n",
    "        if (x[-1]>=x[-2]*9):\n",
    "            ax[i].set_xscale('log')\n",
    "        ax[i].errorbar(x, y_1, e_1, linestyle='--', marker='o', label='test')\n",
    "        ax[i].errorbar(x, y_2, e_2, linestyle='-', marker='^',label='train' )\n",
    "        ax[i].set_xlabel(p.upper())\n",
    "        ax[i].grid(True)\n",
    "\n",
    "    plt.legend()\n",
    "    plt.show()\n",
    "\n",
    "\n",
    "    \n",
    "def plot_search_results_linear(grid, reg_pam):\n",
    "    results = grid.cv_results_\n",
    "    means_test = results['mean_test_score']\n",
    "    stds_test = results['std_test_score']\n",
    "    means_train = results['mean_train_score']\n",
    "    stds_train = results['std_train_score']\n",
    "\n",
    "\n",
    "    # print('mean_test_score: ', means_test)\n",
    "    # print('std_test_score: ', stds_test)\n",
    "    # print('mean_train_score: ', means_train)\n",
    "    # print('std_train_score: ', stds_train)\n",
    "    x = reg_pam\n",
    "    y_1 = np.array(means_test)\n",
    "    e_1 = np.array(stds_test)\n",
    "    y_2 = np.array(means_train)\n",
    "    e_2 = np.array(stds_train)\n",
    "    plt.errorbar(x, y_1, e_1, linestyle='--', marker='o', label='test')\n",
    "    plt.errorbar(x, y_2, e_2, linestyle='-', marker='^',label='train' )\n",
    "    plt.grid(True)\n",
    "    plt.xscale('log')\n",
    "    plt.title('Score Vs C')\n",
    "    plt.legend(loc='lower right')\n",
    "    plt.ylabel('Score')\n",
    "    plt.xlabel('C')\n",
    "    plt.show()"
   ]
  },
  {
   "cell_type": "markdown",
   "id": "0af1107f-483f-4ba8-b0d7-fda77a06b0ab",
   "metadata": {},
   "source": [
    "### For CVXOPT"
   ]
  },
  {
   "cell_type": "code",
   "execution_count": 83,
   "id": "04b1931d-8e9a-46d5-9acf-7bee17e42566",
   "metadata": {},
   "outputs": [],
   "source": [
    "# Reference: https://courses.csail.mit.edu/6.867/wiki/images/a/a7/Qp-cvxopt.pdf\n",
    "\n",
    "def cvx_try(X, y, C, which='linear', kercf=1):\n",
    "    \n",
    "    y_temp = y.reshape(-1, 1)*1.\n",
    "    \n",
    "    if (which=='linear'):\n",
    "        X_temp = y_temp*X\n",
    "        H = np.dot(X_temp, X_temp.T)*1.\n",
    "        P = matrix(H)\n",
    "    elif (which=='poly'):\n",
    "        temp = np.zeros((X.shape[0], X.shape[0]))\n",
    "        for i in range(X.shape[0]):\n",
    "            for j in range(X.shape[0]):\n",
    "                temp[i,j] = (1+np.dot(X[i], X[j]))**kercf\n",
    "        P = matrix(np.outer(y,y)*temp)\n",
    "                \n",
    "    \n",
    "    q = matrix(-np.ones((X.shape[0], 1)))\n",
    "    A = matrix(y_temp.reshape(1, -1))\n",
    "    b = matrix(np.zeros(1))\n",
    "    G = matrix(np.r_[-1*(np.eye(X.shape[0])), np.eye(X.shape[0])])\n",
    "    h = matrix(np.r_[np.zeros(X.shape[0]), np.ones(X.shape[0])*C])\n",
    "    print(repr(q),repr(A),repr(b),repr(G),repr(h))\n",
    "    solvers.options['show_progress'] = True\n",
    "    sol = solvers.qp(P,q,G,h,A,b)\n",
    "    lambs, _ = sol['x'], sol['primal objective']\n",
    "    \n",
    "    return np.array(lambs)"
   ]
  },
  {
   "cell_type": "code",
   "execution_count": null,
   "id": "37ae6362-787b-4b01-9e57-fbd5ac536d12",
   "metadata": {},
   "outputs": [],
   "source": []
  },
  {
   "cell_type": "code",
   "execution_count": null,
   "id": "592271f7-36f9-4bb2-80da-420b2b4d3082",
   "metadata": {},
   "outputs": [],
   "source": []
  },
  {
   "cell_type": "code",
   "execution_count": 44,
   "id": "a3dfe062-6afc-4905-bd96-8bff888e9753",
   "metadata": {},
   "outputs": [],
   "source": []
  },
  {
   "cell_type": "markdown",
   "id": "bba7eb38-91e1-4a7c-b926-285c2785479a",
   "metadata": {},
   "source": [
    "## Part 1A"
   ]
  },
  {
   "cell_type": "markdown",
   "id": "5877f1e1-26d1-4eab-9758-e23036f930af",
   "metadata": {},
   "source": [
    "### Data Import + Initialize"
   ]
  },
  {
   "cell_type": "code",
   "execution_count": 124,
   "id": "de96c6b8-2d2b-4d42-ab20-e50edffc58c0",
   "metadata": {},
   "outputs": [
    {
     "name": "stdout",
     "output_type": "stream",
     "text": [
      "591\n",
      "472 472 119 119\n",
      "(472, 25)\n",
      "(472, 1)\n",
      "(119, 25)\n",
      "(119, 1)\n"
     ]
    },
    {
     "name": "stderr",
     "output_type": "stream",
     "text": [
      "c:\\users\\vansh\\appdata\\local\\programs\\python\\python39\\lib\\site-packages\\pandas\\core\\indexing.py:1637: SettingWithCopyWarning: \n",
      "A value is trying to be set on a copy of a slice from a DataFrame\n",
      "\n",
      "See the caveats in the documentation: https://pandas.pydata.org/pandas-docs/stable/user_guide/indexing.html#returning-a-view-versus-a-copy\n",
      "  self._setitem_single_block(indexer, value, name)\n",
      "c:\\users\\vansh\\appdata\\local\\programs\\python\\python39\\lib\\site-packages\\pandas\\core\\indexing.py:692: SettingWithCopyWarning: \n",
      "A value is trying to be set on a copy of a slice from a DataFrame\n",
      "\n",
      "See the caveats in the documentation: https://pandas.pydata.org/pandas-docs/stable/user_guide/indexing.html#returning-a-view-versus-a-copy\n",
      "  iloc._setitem_with_indexer(indexer, value, self.name)\n",
      "c:\\users\\vansh\\appdata\\local\\programs\\python\\python39\\lib\\site-packages\\pandas\\core\\indexing.py:1637: SettingWithCopyWarning: \n",
      "A value is trying to be set on a copy of a slice from a DataFrame\n",
      "\n",
      "See the caveats in the documentation: https://pandas.pydata.org/pandas-docs/stable/user_guide/indexing.html#returning-a-view-versus-a-copy\n",
      "  self._setitem_single_block(indexer, value, name)\n",
      "c:\\users\\vansh\\appdata\\local\\programs\\python\\python39\\lib\\site-packages\\pandas\\core\\indexing.py:692: SettingWithCopyWarning: \n",
      "A value is trying to be set on a copy of a slice from a DataFrame\n",
      "\n",
      "See the caveats in the documentation: https://pandas.pydata.org/pandas-docs/stable/user_guide/indexing.html#returning-a-view-versus-a-copy\n",
      "  iloc._setitem_with_indexer(indexer, value, self.name)\n"
     ]
    }
   ],
   "source": [
    "lab1 = 4\n",
    "lab2 = 6\n",
    "num_ft = 25\n",
    "split_frac = 0.8\n",
    "random_state = 69420\n",
    "file_name = '2019EE10143.csv'\n",
    "\n",
    "\n",
    "# Import\n",
    "df = pd.read_csv(file_name, header=None)\n",
    "\n",
    "#Convert to use\n",
    "df_temp = df.loc[df[25].isin([lab1, lab2])]\n",
    "print(len(df_temp))\n",
    "df_temp.iloc[df_temp[25] == lab1, 25] = -1\n",
    "df_temp.iloc[df_temp[25] == lab2, 25] = 1\n",
    "df_temp = df_temp.sample(frac=1.)\n",
    "\n",
    "train_df = df_temp[:int(split_frac*len(df_temp))]\n",
    "test_df = df_temp[int(split_frac*len(df_temp)):]\n",
    "\n",
    "X_train_temp = train_df.loc[:, [i for i in range(num_ft)]]\n",
    "y_train_temp = train_df.loc[:, [25]]\n",
    "X_test_temp = test_df.loc[:, [i for i in range(num_ft)]]\n",
    "y_test_temp = test_df.loc[:, [25]]\n",
    "\n",
    "# print(X_train_temp.head())\n",
    "# print(y_train_temp.head())\n",
    "# print(X_test_temp.head())\n",
    "# print(y_test_temp.head())\n",
    "\n",
    "print(len(X_train_temp), len(y_train_temp), len(X_test_temp), len(y_test_temp))\n",
    "\n",
    "\n",
    "train_X = np.array(X_train_temp.values)\n",
    "train_y = np.array(y_train_temp.values)\n",
    "test_X = np.array(X_test_temp.values)\n",
    "test_y = np.array(y_test_temp.values)\n",
    "\n",
    "print (train_X.shape)\n",
    "print (train_y.shape)\n",
    "print (test_X.shape)\n",
    "print (test_y.shape)"
   ]
  },
  {
   "cell_type": "markdown",
   "id": "44d802eb-3bd0-4d60-82aa-618d575b0c3d",
   "metadata": {},
   "source": [
    "### Grid Search"
   ]
  },
  {
   "cell_type": "code",
   "execution_count": 125,
   "id": "fc9cb4ad-7067-4ce0-99e6-cbdcc35748a3",
   "metadata": {},
   "outputs": [
    {
     "name": "stdout",
     "output_type": "stream",
     "text": [
      "0.9915254237288136\n",
      "0.9747899159663865\n",
      "{'SVM__C': 0.01}\n"
     ]
    }
   ],
   "source": [
    "# https://scikit-learn.org/stable/modules/generated/sklearn.svm.SVC.html\n",
    "\n",
    "low_reg, high_reg = -5,5\n",
    "# low_cof, high_cof = -3,3\n",
    "# low_deg, high_deg = 1, 6\n",
    "\n",
    "reg_pam = np.logspace(low_reg, high_reg, num=1+high_reg-low_reg)\n",
    "# ker_coeff_pam = np.logspace(low_cof, high_cof, num=1+high_cof-low_cof)\n",
    "# deg_pam = np.linspace(low_deg, high_deg, 1+low_deg+high_deg)\n",
    "\n",
    "\n",
    "ppl = [('scaler', StandardScaler()), ('SVM', svm.SVC(kernel='linear'))]\n",
    "pipeline = Pipeline(ppl) \n",
    "parameters = {'SVM__C':reg_pam} #Linear\n",
    "# parameters = {'SVM__C':reg_pam, 'SVM__degree':deg_pam, 'SVM__gamma':ker_coeff_pam}\n",
    "# parameters = {'SVM__C':reg_pam, 'SVM__degree':deg_pam, 'SVM__gamma':ker_coeff_pam}\n",
    "grid = GridSearchCV(pipeline, param_grid=parameters, cv=5, return_train_score=True)\n",
    "\n",
    "grid.fit(train_X, np.ravel(train_y, order='C'))\n",
    "print(grid.score(train_X, train_y))\n",
    "print(grid.score(test_X, test_y))\n",
    "print(grid.best_params_)"
   ]
  },
  {
   "cell_type": "markdown",
   "id": "cf3a4bf8-7bc6-41de-9caf-8ecb2fbc0374",
   "metadata": {},
   "source": [
    "### Plottings"
   ]
  },
  {
   "cell_type": "code",
   "execution_count": 126,
   "id": "8c798b55-8455-4195-94d9-3c30548f1f59",
   "metadata": {},
   "outputs": [
    {
     "data": {
      "image/png": "[encoded data removed]",
      "text/plain": [
       "<Figure size 432x288 with 1 Axes>"
      ]
     },
     "metadata": {
      "needs_background": "light"
     },
     "output_type": "display_data"
    },
    {
     "data": {
      "image/png": "[encoded data removed]",
      "text/plain": [
       "<Figure size 432x288 with 1 Axes>"
      ]
     },
     "metadata": {
      "needs_background": "light"
     },
     "output_type": "display_data"
    }
   ],
   "source": [
    "plot_it_all_linear(train_X, train_y, test_X, test_y, reg_pam)\n",
    "plot_search_results_linear(grid, reg_pam)"
   ]
  },
  {
   "cell_type": "code",
   "execution_count": 130,
   "id": "a8ae901c-180a-44de-9603-999df86f43e8",
   "metadata": {},
   "outputs": [
    {
     "name": "stdout",
     "output_type": "stream",
     "text": [
      "w =  [[ 0.11717243 -0.40116018  0.11632333  0.30692205  0.03411372 -0.23536823\n",
      "   0.33034117 -0.01774847 -0.13541525  0.00437062 -0.10100332  0.04296125\n",
      "   0.0747433   0.02496386 -0.02533199 -0.00231244  0.26827029  0.02816113\n",
      "   0.02320037  0.05914415  0.07584339 -0.01022711  0.06327853  0.04430409\n",
      "  -0.08353974]]\n",
      "b =  [-0.14984723]\n"
     ]
    }
   ],
   "source": [
    "pipeline = svm.SVC(kernel='linear', C=0.01)\n",
    "pipeline.fit(train_X, np.ravel(train_y, order='C'))\n",
    "print('w = ',pipeline.coef_)\n",
    "print('b = ',pipeline.intercept_)\n",
    "# print('Indices of support vectors = ', pipeline.support_)\n",
    "# print('Support vectors = ', pipeline.support_vectors_)\n",
    "# print('Number of support vectors for each class = ', pipeline.n_support_)\n",
    "# print('Coefficients of the support vector in the decision function = ', np.abs(pipeline.dual_coef_))"
   ]
  },
  {
   "cell_type": "code",
   "execution_count": null,
   "id": "a21882b9-212e-4cf2-8369-f9d713a94237",
   "metadata": {},
   "outputs": [],
   "source": []
  },
  {
   "cell_type": "code",
   "execution_count": null,
   "id": "962a919f-6520-4d26-b2d6-36ad1a9e03a7",
   "metadata": {},
   "outputs": [],
   "source": []
  },
  {
   "cell_type": "markdown",
   "id": "21bfee0a-0780-4513-a87a-0e41e4f5e6bf",
   "metadata": {},
   "source": [
    "## CVXOPT"
   ]
  },
  {
   "cell_type": "code",
   "execution_count": 128,
   "id": "2a9a9e3f-4603-4582-9d23-481e494cdada",
   "metadata": {},
   "outputs": [
    {
     "name": "stdout",
     "output_type": "stream",
     "text": [
      "<472x1 matrix, tc='d'> <1x472 matrix, tc='d'> <1x1 matrix, tc='d'> <944x472 matrix, tc='d'> <944x1 matrix, tc='d'>\n",
      "     pcost       dcost       gap    pres   dres\n",
      " 0: -2.5764e+01 -8.8449e+00  3e+03  5e+01  2e-14\n",
      " 1: -8.7158e-01 -8.7655e+00  5e+01  7e-01  2e-14\n",
      " 2: -4.9729e-01 -5.5813e+00  8e+00  7e-02  3e-15\n",
      " 3: -3.5112e-01 -1.0863e+00  8e-01  2e-03  1e-15\n",
      " 4: -4.7274e-01 -7.2520e-01  3e-01  6e-04  6e-16\n",
      " 5: -5.1730e-01 -6.4430e-01  1e-01  3e-04  5e-16\n",
      " 6: -5.4308e-01 -5.9993e-01  6e-02  9e-05  5e-16\n",
      " 7: -5.5491e-01 -5.8092e-01  3e-02  3e-05  5e-16\n",
      " 8: -5.6226e-01 -5.6969e-01  7e-03  7e-06  5e-16\n",
      " 9: -5.6496e-01 -5.6595e-01  1e-03  8e-07  5e-16\n",
      "10: -5.6538e-01 -5.6540e-01  1e-05  8e-09  6e-16\n",
      "11: -5.6539e-01 -5.6539e-01  1e-07  8e-11  6e-16\n",
      "Optimal solution found.\n"
     ]
    }
   ],
   "source": [
    "idk = cvx_try(train_X, train_y, 0.01)\n",
    "# idk"
   ]
  },
  {
   "cell_type": "code",
   "execution_count": 129,
   "id": "2428bd38-316c-4ef0-a670-760148f7d010",
   "metadata": {},
   "outputs": [
    {
     "name": "stdout",
     "output_type": "stream",
     "text": [
      "w =  [ 0.11715816 -0.40104701  0.11632326  0.30693711  0.03432163 -0.23537957\n",
      "  0.33015983 -0.01780562 -0.13548682  0.00437479 -0.10104125  0.04313272\n",
      "  0.07477161  0.02475069 -0.02502624 -0.00231084  0.2683483   0.02808194\n",
      "  0.02324129  0.05937107  0.07556977 -0.01031471  0.06317371  0.04427912\n",
      " -0.08349651]\n",
      "b =  [-0.31779591]\n"
     ]
    }
   ],
   "source": [
    "threshold = 1e-4\n",
    "\n",
    "############ https://xavierbourretsicotte.github.io/SVM_implementation.html #########\n",
    "#w parameter in vectorized form\n",
    "w = ((train_y * idk).T @ train_X).reshape(-1,1)\n",
    "#Selecting the set of indices S corresponding to non zero parameters\n",
    "S = (idk > threshold).flatten()\n",
    "#Computing b\n",
    "b = train_y[S] - np.dot(train_X[S], w)\n",
    "#Display results\n",
    "print('Alphas = ',idk[idk > threshold])\n",
    "print('w = ', w.flatten())\n",
    "print('b = ', b[0])"
   ]
  },
  {
   "cell_type": "code",
   "execution_count": 54,
   "id": "2060ef52-be91-410f-9c47-dc45b9dc28f4",
   "metadata": {},
   "outputs": [
    {
     "name": "stdout",
     "output_type": "stream",
     "text": [
      "heck yeah\n"
     ]
    }
   ],
   "source": [
    "print('heck yeah')"
   ]
  },
  {
   "cell_type": "code",
   "execution_count": null,
   "id": "d8a089aa-5b55-422a-9449-9e7e1ca85e49",
   "metadata": {},
   "outputs": [],
   "source": []
  }
 ],
 "metadata": {
  "kernelspec": {
   "display_name": "Python 3",
   "language": "python",
   "name": "python3"
  },
  "language_info": {
   "codemirror_mode": {
    "name": "ipython",
    "version": 3
   },
   "file_extension": ".py",
   "mimetype": "text/x-python",
   "name": "python",
   "nbconvert_exporter": "python",
   "pygments_lexer": "ipython3",
   "version": "3.9.4"
  }
 },
 "nbformat": 4,
 "nbformat_minor": 5
}
