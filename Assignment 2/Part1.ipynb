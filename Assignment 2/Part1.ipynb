{
 "cells": [
  {
   "cell_type": "markdown",
   "id": "1ae78186-7827-44d6-bc5d-45080db3b8a1",
   "metadata": {},
   "source": [
    "## Imports and data-reading"
   ]
  },
  {
   "cell_type": "code",
   "execution_count": 1,
   "id": "f6074cef-fa8f-4d97-a329-6688f440869b",
   "metadata": {},
   "outputs": [],
   "source": [
    "import pandas as pd\n",
    "# !pip install cvxopt\n",
    "import numpy as np\n",
    "import matplotlib.pyplot as plt\n",
    "from cvxopt import matrix, solvers\n",
    "from sklearn.model_selection import train_test_split, GridSearchCV\n",
    "from sklearn.preprocessing import StandardScaler\n",
    "from sklearn.pipeline import Pipeline\n",
    "from sklearn import svm\n",
    "from sklearn.svm import SVC\n",
    "from sklearn import datasets"
   ]
  },
  {
   "cell_type": "markdown",
   "id": "f14a2f15-9e5d-4d03-a593-228e9a32e115",
   "metadata": {},
   "source": [
    "## Useful Functions for any part"
   ]
  },
  {
   "cell_type": "markdown",
   "id": "46c5dc98-0282-4b2d-a7e9-88c494ebd714",
   "metadata": {},
   "source": [
    "### For SVM/SVC plotting"
   ]
  },
  {
   "cell_type": "code",
   "execution_count": 2,
   "id": "cd494fc1-02a2-46c7-80a4-f4c89cb13301",
   "metadata": {},
   "outputs": [],
   "source": [
    "def plot_it_all_poly(train_X, train_y, test_X, test_y, reg_pam, ker_coeff_pam):\n",
    "\n",
    "    ######################################### 3D plot ########################################\n",
    "    Z = np.ones((len(reg_pam),len(ker_coeff_pam)))\n",
    "    W = np.ones((len(reg_pam),len(ker_coeff_pam)))\n",
    "    X, Y = np.meshgrid(reg_pam, ker_coeff_pam)\n",
    "\n",
    "\n",
    "    for idxc, c in enumerate(reg_pam):\n",
    "        for idxg, g in enumerate(ker_coeff_pam):\n",
    "            ppl = [('scaler', StandardScaler()), ('SVM', svm.SVC(kernel='poly', C = c, gamma = g))]\n",
    "            pipeline = Pipeline(ppl) \n",
    "            mod = pipeline\n",
    "#             mod = svm.SVC(kernel='poly', C = c, gamma = g)\n",
    "            mod.fit(train_X, np.ravel(train_y, order='C'))\n",
    "            Z[idxc][idxg] = mod.score(train_X, train_y)\n",
    "            W[idxc][idxg] = mod.score(test_X, test_y)\n",
    "\n",
    "    # print(X, Y, Z, W, X.shape, Y.shape, Z.shape, W.shape)\n",
    "\n",
    "    fig = plt.figure()\n",
    "    ax = fig.add_subplot(111, projection='3d')\n",
    "    ax.plot_wireframe(np.log10(X), np.log10(Y), Z, rstride=1, cstride=1, label='train', color='blue' )\n",
    "    ax.plot_wireframe(np.log10(X), np.log10(Y), W, rstride=1, cstride=1, label='test', color='red')\n",
    "    ax.set_title('Poly kernel: C and Gamma Vs Accuracy')\n",
    "    ax.set_xlabel('log(C)')\n",
    "    ax.set_ylabel('log(Gamma)')\n",
    "\n",
    "    plt.legend()\n",
    "    plt.show()\n",
    "\n",
    "\n",
    "    ######################################## My conventional plots ########################################\n",
    "    for idxc, c in enumerate(reg_pam):\n",
    "        E_score_train = []\n",
    "        E_score_test = []\n",
    "\n",
    "        for idxg, g in enumerate(ker_coeff_pam):\n",
    "            ppl = [('scaler', StandardScaler()), ('SVM', svm.SVC(kernel='poly', C = c, gamma = g))]\n",
    "            pipeline = Pipeline(ppl) \n",
    "            mod = pipeline\n",
    "            #mod = svm.SVC(kernel='poly', C = c, gamma = g)\n",
    "            mod.fit(train_X, np.ravel(train_y, order='C'))\n",
    "            E_score_train.append(mod.score(train_X, train_y))\n",
    "            E_score_test.append(mod.score(test_X, test_y))\n",
    "\n",
    "        plt.plot(ker_coeff_pam, E_score_test, \"r-\", label=\"Test\")\n",
    "        plt.plot(ker_coeff_pam, E_score_train, \"b-\", label=\"Train\")\n",
    "        plt.xscale('log')\n",
    "        plt.xlabel(r'$\\Gamma$')\n",
    "        plt.ylabel('Score')\n",
    "        plt.legend()\n",
    "        plt.title('Score for C=%s'%(c))\n",
    "        plt.show()\n",
    "\n",
    "\n",
    "        \n",
    "def plot_it_all_linear(train_X, train_y, test_X, test_y, reg_pam):\n",
    "\n",
    "    ######################################## My conventional plots ########################################\n",
    "    E_score_train = []\n",
    "    E_score_test = []\n",
    "\n",
    "    for idxc, c in enumerate(reg_pam):    \n",
    "        ppl = [('scaler', StandardScaler()), ('SVM', svm.SVC(kernel='linear', C = c))]\n",
    "        pipeline = Pipeline(ppl) \n",
    "        mod = pipeline\n",
    "#         mod = svm.SVC(kernel='poly', C = c, gamma = g)\n",
    "        mod.fit(train_X, np.ravel(train_y, order='C'))\n",
    "        E_score_train.append(mod.score(train_X, train_y))\n",
    "        E_score_test.append(mod.score(test_X, test_y))\n",
    "\n",
    "    plt.plot(reg_pam, E_score_test, \"r-\", label=\"Test\")\n",
    "    plt.plot(reg_pam, E_score_train, \"b-\", label=\"Train\")\n",
    "    plt.xscale('log')\n",
    "    plt.xlabel('C')\n",
    "    plt.ylabel('Score')\n",
    "    plt.legend()\n",
    "#     plt.title('Score for C=%s'%(c))\n",
    "    plt.show()\n",
    "\n",
    "        \n",
    "        \n",
    "        \n",
    "######################################## PLOTS FOR GRID SEARCH ########################################\n",
    "\n",
    "def plot_search_results(grid):\n",
    "    # Reference: https://stackoverflow.com/questions/37161563/how-to-graph-grid-scores-from-gridsearchcv\n",
    "    \"\"\"\n",
    "    Params: \n",
    "        grid: A trained GridSearchCV object.\n",
    "    \"\"\"\n",
    "    ## Results from grid search\n",
    "    results = grid.cv_results_\n",
    "    means_test = results['mean_test_score']\n",
    "    stds_test = results['std_test_score']\n",
    "    means_train = results['mean_train_score']\n",
    "    stds_train = results['std_train_score']\n",
    "\n",
    "    ## Getting indexes of values per hyper-parameter\n",
    "    masks=[]\n",
    "    masks_names= list(grid.best_params_.keys())\n",
    "    for p_k, p_v in grid.best_params_.items():\n",
    "        masks.append(list(results['param_'+p_k].data==p_v))\n",
    "\n",
    "    params=grid.param_grid\n",
    "\n",
    "    ## Ploting results\n",
    "    fig, ax = plt.subplots(1,len(params),sharex='none', sharey=False,figsize=(len(params)*10,len(params)*2.5))\n",
    "    fig.suptitle('Score per parameter')\n",
    "    fig.text(0.085, 0.5, 'MEAN SCORE', va='center', rotation='vertical')\n",
    "    pram_preformace_in_best = {}\n",
    "    for i, p in enumerate(masks_names):\n",
    "        m = np.stack(masks[:i] + masks[i+1:])\n",
    "#         m=np.array(masks[:i])\n",
    "        pram_preformace_in_best\n",
    "        best_parms_mask = m.all(axis=0)\n",
    "        best_index = np.where(best_parms_mask)[0]\n",
    "        x = np.array(params[p])\n",
    "        y_1 = np.array(means_test[best_index])\n",
    "        e_1 = np.array(stds_test[best_index])\n",
    "        y_2 = np.array(means_train[best_index])\n",
    "        e_2 = np.array(stds_train[best_index])\n",
    "        if (x[-1]>=x[-2]*9):\n",
    "            ax[i].set_xscale('log')\n",
    "        ax[i].errorbar(x, y_1, e_1, linestyle='--', marker='o', label='test')\n",
    "        ax[i].errorbar(x, y_2, e_2, linestyle='-', marker='^',label='train' )\n",
    "        ax[i].set_xlabel(p.upper())\n",
    "        ax[i].grid(True)\n",
    "\n",
    "    plt.legend()\n",
    "    plt.show()\n",
    "\n",
    "\n",
    "    \n",
    "def plot_search_results_linear(grid, reg_pam):\n",
    "    results = grid.cv_results_\n",
    "    means_test = results['mean_test_score']\n",
    "    stds_test = results['std_test_score']\n",
    "    means_train = results['mean_train_score']\n",
    "    stds_train = results['std_train_score']\n",
    "\n",
    "\n",
    "    # print('mean_test_score: ', means_test)\n",
    "    # print('std_test_score: ', stds_test)\n",
    "    # print('mean_train_score: ', means_train)\n",
    "    # print('std_train_score: ', stds_train)\n",
    "    x = reg_pam\n",
    "    y_1 = np.array(means_test)\n",
    "    e_1 = np.array(stds_test)\n",
    "    y_2 = np.array(means_train)\n",
    "    e_2 = np.array(stds_train)\n",
    "    plt.errorbar(x, y_1, e_1, linestyle='--', marker='o', label='test')\n",
    "    plt.errorbar(x, y_2, e_2, linestyle='-', marker='^',label='train' )\n",
    "    plt.grid(True)\n",
    "    plt.xscale('log')\n",
    "    plt.title('Score Vs C')\n",
    "    plt.legend(loc='lower right')\n",
    "    plt.ylabel('Score')\n",
    "    plt.xlabel('C')\n",
    "    plt.show()"
   ]
  },
  {
   "cell_type": "markdown",
   "id": "0af1107f-483f-4ba8-b0d7-fda77a06b0ab",
   "metadata": {},
   "source": [
    "### For CVXOPT"
   ]
  },
  {
   "cell_type": "code",
   "execution_count": 49,
   "id": "04b1931d-8e9a-46d5-9acf-7bee17e42566",
   "metadata": {},
   "outputs": [],
   "source": [
    "# Reference: https://courses.csail.mit.edu/6.867/wiki/images/a/a7/Qp-cvxopt.pdf\n",
    "# Reference: https://www.robots.ox.ac.uk/~az/lectures/ml/lect3.pdf\n",
    "\n",
    "def cvx_try(X, y, X_test, y_test, which, C=1.0, gamma=0.04, coef0= 0.0, degree=3, threshold=1e-4):\n",
    "    \n",
    "    y_temp = y.reshape(-1, 1)*1.\n",
    "#     X_temp = y_temp*X\n",
    "#     H = np.dot(X_temp, X_temp.T)*1.\n",
    "    def makeHP(X1, X2, y_temp, which):\n",
    "        H = np.dot(X1, X2.T)\n",
    "        if (which=='linear'):\n",
    "            P = matrix(y_temp.dot(y_temp.T)*H)\n",
    "        elif (which=='poly'):\n",
    "            H = (gamma*H+coef0)**degree\n",
    "            P = matrix(y_temp.dot(y_temp.T)*H)\n",
    "        elif (which=='sigmoid'):\n",
    "            H = np.tanh(gamma*H+coef0)\n",
    "            P = matrix(y_temp.dot(y_temp.T)*H)\n",
    "        elif (which=='rbf'):\n",
    "            H1 = np.diag(X1.dot(X1.T)).reshape(-1, 1)*np.ones((1, X2.shape[0]))\n",
    "            H2 = np.diag(X2.dot(X2.T)).reshape(1, -1)*np.ones((X1.shape[0],1))\n",
    "            H = 2*H-H1-H2\n",
    "            H = np.exp(gamma*H)\n",
    "            P = matrix(y_temp.dot(y_temp.T)*H)\n",
    "    \n",
    "        return H,P\n",
    "    \n",
    "    H,P = makeHP(X, X, y_temp, which)\n",
    "    q = matrix(-np.ones((X.shape[0], 1)))\n",
    "    A = matrix(y_temp.reshape(1, -1))\n",
    "    b = matrix(np.zeros(1))\n",
    "    G = matrix(np.r_[-1*(np.eye(X.shape[0])), np.eye(X.shape[0])])\n",
    "    h = matrix(np.r_[np.zeros(X.shape[0]), np.ones(X.shape[0])*C])\n",
    "    print(repr(q),repr(A),repr(b),repr(G),repr(h))\n",
    "    solvers.options['show_progress'] = False\n",
    "    sol = solvers.qp(P,q,G,h,A,b)\n",
    "    lambs, _ = np.array(sol['x']), np.array(sol['primal objective'])\n",
    "    \n",
    "    \n",
    "    ########## GET SUPPORT VECTORS ################\n",
    "    idx = np.where(lambs > threshold)[0] # Indices of support vectors\n",
    "    #Extract support vectors\n",
    "    sX = X[idx,:]\n",
    "    sy = y[idx]\n",
    "    lambs = lambs[idx]\n",
    "    b = np.sum(sy)\n",
    "    for j in idx:\n",
    "        b = b - np.sum(lambs*sy*(H[j, idx].reshape(-1, 1)))\n",
    "    b /= idx.shape[0]\n",
    "    \n",
    "    \n",
    "    \n",
    "    ######### PREDICT ###########\n",
    "    ynew = np.zeros((X_test.shape[0],))\n",
    "    Htemp,_ = makeHP(sX, test_X, ynew, which)\n",
    "    rightcnt = 0.\n",
    "#     print(ynew.shape, Htemp.shape)\n",
    "    for i in range(ynew.shape[0]):\n",
    "        ynew[i] = np.sum(lambs*sy*Htemp[:,i].reshape(-1,1))+b\n",
    "        if (ynew[i]*y_test[i]>0):\n",
    "            rightcnt+=1.\n",
    "    y_pred = np.sign(ynew)\n",
    "    score = rightcnt*100.0/ynew.shape[0]\n",
    "    \n",
    "    \n",
    "    \n",
    "    return lambs, sX, sy, y_pred, score"
   ]
  },
  {
   "cell_type": "code",
   "execution_count": null,
   "id": "37ae6362-787b-4b01-9e57-fbd5ac536d12",
   "metadata": {},
   "outputs": [],
   "source": []
  },
  {
   "cell_type": "code",
   "execution_count": null,
   "id": "592271f7-36f9-4bb2-80da-420b2b4d3082",
   "metadata": {},
   "outputs": [],
   "source": []
  },
  {
   "cell_type": "code",
   "execution_count": 44,
   "id": "a3dfe062-6afc-4905-bd96-8bff888e9753",
   "metadata": {},
   "outputs": [],
   "source": []
  },
  {
   "cell_type": "markdown",
   "id": "bba7eb38-91e1-4a7c-b926-285c2785479a",
   "metadata": {},
   "source": [
    "## Part 1A"
   ]
  },
  {
   "cell_type": "markdown",
   "id": "5877f1e1-26d1-4eab-9758-e23036f930af",
   "metadata": {},
   "source": [
    "### Data Import + Initialize"
   ]
  },
  {
   "cell_type": "code",
   "execution_count": null,
   "id": "de96c6b8-2d2b-4d42-ab20-e50edffc58c0",
   "metadata": {},
   "outputs": [],
   "source": [
    "lab1 = 0\n",
    "lab2 = 1\n",
    "num_ft = 10\n",
    "split_frac = 0.8\n",
    "random_state = 69420\n",
    "file_name = '2019EE10143.csv'\n",
    "\n",
    "\n",
    "# Import\n",
    "df = pd.read_csv(file_name, header=None)\n",
    "\n",
    "#Convert to use\n",
    "df_temp = df.loc[df[25].isin([lab1, lab2])]\n",
    "print(len(df_temp))\n",
    "df_temp.iloc[df_temp[25] == lab1, 25] = -1\n",
    "df_temp.iloc[df_temp[25] == lab2, 25] = 1\n",
    "df_temp = df_temp.sample(frac=1.)\n",
    "\n",
    "train_df = df_temp[:int(split_frac*len(df_temp))]\n",
    "test_df = df_temp[int(split_frac*len(df_temp)):]\n",
    "\n",
    "X_train_temp = train_df.loc[:, [i for i in range(num_ft)]]\n",
    "y_train_temp = train_df.loc[:, [25]]\n",
    "X_test_temp = test_df.loc[:, [i for i in range(num_ft)]]\n",
    "y_test_temp = test_df.loc[:, [25]]\n",
    "\n",
    "# print(X_train_temp.head())\n",
    "# print(y_train_temp.head())\n",
    "# print(X_test_temp.head())\n",
    "# print(y_test_temp.head())\n",
    "\n",
    "print(len(X_train_temp), len(y_train_temp), len(X_test_temp), len(y_test_temp))\n",
    "\n",
    "\n",
    "train_X = np.array(X_train_temp.values)\n",
    "train_y = np.array(y_train_temp.values)\n",
    "test_X = np.array(X_test_temp.values)\n",
    "test_y = np.array(y_test_temp.values)\n",
    "\n",
    "print (train_X.shape)\n",
    "print (train_y.shape)\n",
    "print (test_X.shape)\n",
    "print (test_y.shape)"
   ]
  },
  {
   "cell_type": "markdown",
   "id": "44d802eb-3bd0-4d60-82aa-618d575b0c3d",
   "metadata": {},
   "source": [
    "### Grid Search SVM"
   ]
  },
  {
   "cell_type": "code",
   "execution_count": 47,
   "id": "fc9cb4ad-7067-4ce0-99e6-cbdcc35748a3",
   "metadata": {},
   "outputs": [
    {
     "name": "stdout",
     "output_type": "stream",
     "text": [
      "0.9979338842975206\n",
      "1.0\n",
      "{'SVM__C': 0.01, 'SVM__degree': 1.0, 'SVM__gamma': 1000.0}\n",
      "1.0\n",
      "0.9917355371900827\n",
      "[array([-1.94047783, -0.59404481,  1.62592456,  1.31214335,  0.55917462,\n",
      "        2.77954685, -2.94160016,  0.09023557, -0.36688979,  0.34897057]), array([-1.69790865, -0.14900708, -1.45748286,  0.16046577,  0.4779497 ,\n",
      "       -2.35441859,  1.24388444, -1.09576342, -0.22069924,  1.37331691]), array([-1.62410951,  0.17525191,  0.78955537, -1.67133864,  0.97864023,\n",
      "       -0.49141539,  1.16826925,  0.60176822, -0.38505255,  0.74013041]), array([-1.55273591, -0.68410391, -0.76341679, -1.3259031 , -1.68824719,\n",
      "       -2.28984977,  1.29874316, -1.63046122, -0.63093164,  0.00850813]), array([-1.54261417,  0.30739635, -1.59332713,  1.46957368,  0.03795295,\n",
      "       -1.31261301, -0.59115292, -0.43047483, -0.49556236,  0.14898264]), array([-1.36257971, -1.96644095,  0.73256698,  0.64308138, -1.26743175,\n",
      "       -1.04431212, -2.08032059,  1.15287226,  2.57996889,  0.94873595]), array([-1.07836527,  0.48191267,  0.38393846,  2.38360899, -3.2936363 ,\n",
      "       -0.33769804, -0.84311013,  0.3249846 ,  0.18346617, -0.09942058]), array([-0.87331614, -0.16715287,  0.02539877, -1.35126468, -0.30536666,\n",
      "        1.14538313,  2.31585465,  1.13378624, -0.26333482, -0.16841028]), array([ 1.34038988, -1.24154295, -3.15608039,  1.47870173, -2.79963162,\n",
      "        1.65954014,  0.60293328, -0.48265476,  0.47713906, -0.49296996])]\n"
     ]
    }
   ],
   "source": [
    "# https://scikit-learn.org/stable/modules/generated/sklearn.svm.SVC.html\n",
    "\n",
    "low_reg, high_reg = -5,5\n",
    "low_cof, high_cof = -3,3\n",
    "low_deg, high_deg = 1, 6\n",
    "\n",
    "reg_pam = np.logspace(low_reg, high_reg, num=1+high_reg-low_reg)\n",
    "ker_coeff_pam = np.logspace(low_cof, high_cof, num=1+high_cof-low_cof)\n",
    "deg_pam = np.linspace(low_deg, high_deg, 1+low_deg+high_deg)\n",
    "\n",
    "\n",
    "ppl = [('scaler', StandardScaler()), ('SVM', svm.SVC(kernel='poly'))]\n",
    "pipeline = Pipeline(ppl) \n",
    "# parameters = {'SVM__C':reg_pam} #Linear\n",
    "parameters = {'SVM__C':reg_pam, 'SVM__degree':deg_pam, 'SVM__gamma':ker_coeff_pam} #Poly\n",
    "# parameters = {'SVM__C':reg_pam, 'SVM__degree':deg_pam, 'SVM__gamma':ker_coeff_pam}\n",
    "grid = GridSearchCV(pipeline, param_grid=parameters, cv=5, return_train_score=True)\n",
    "\n",
    "grid.fit(train_X, np.ravel(train_y, order='C'))\n",
    "print(grid.score(train_X, train_y))\n",
    "print(grid.score(test_X, test_y))\n",
    "bestpar = grid.best_params_\n",
    "print(bestpar)\n",
    "\n",
    "mod = svm.SVC(kernel='poly', C = bestpar['SVM__C'], gamma = bestpar['SVM__gamma'], degree= bestpar['SVM__degree'])\n",
    "mod.fit(train_X, np.ravel(train_y, order='C'))\n",
    "print(mod.score(train_X, train_y))\n",
    "print(mod.score(test_X, test_y))\n",
    "print(sorted(mod.support_vectors_, key=lambda x: x[0]))"
   ]
  },
  {
   "cell_type": "markdown",
   "id": "cf3a4bf8-7bc6-41de-9caf-8ecb2fbc0374",
   "metadata": {},
   "source": [
    "### Plottings"
   ]
  },
  {
   "cell_type": "code",
   "execution_count": 18,
   "id": "8c798b55-8455-4195-94d9-3c30548f1f59",
   "metadata": {},
   "outputs": [
    {
     "data": {
      "image/png": "[encoded data removed]",
      "text/plain": [
       "<Figure size 2160x540 with 3 Axes>"
      ]
     },
     "metadata": {
      "needs_background": "light"
     },
     "output_type": "display_data"
    }
   ],
   "source": [
    "# plot_it_all_linear(train_X, train_y, test_X, test_y, reg_pam)\n",
    "# plot_search_results_linear(grid, reg_pam)\n",
    "plot_search_results(grid)"
   ]
  },
  {
   "cell_type": "code",
   "execution_count": null,
   "id": "a8ae901c-180a-44de-9603-999df86f43e8",
   "metadata": {},
   "outputs": [],
   "source": [
    "# pipeline = svm.SVC(kernel='linear', C=0.01)\n",
    "# pipeline.fit(train_X, np.ravel(train_y, order='C'))\n",
    "# print('w = ',pipeline.coef_)\n",
    "# print('b = ',pipeline.intercept_)\n",
    "# # print('Indices of support vectors = ', pipeline.support_)\n",
    "# print('Support vectors = ', pipeline.support_vectors_)\n",
    "# # print('Number of support vectors for each class = ', pipeline.n_support_)\n",
    "# # print('Coefficients of the support vector in the decision function = ', np.abs(pipeline.dual_coef_))"
   ]
  },
  {
   "cell_type": "code",
   "execution_count": null,
   "id": "a21882b9-212e-4cf2-8369-f9d713a94237",
   "metadata": {},
   "outputs": [],
   "source": []
  },
  {
   "cell_type": "code",
   "execution_count": null,
   "id": "962a919f-6520-4d26-b2d6-36ad1a9e03a7",
   "metadata": {},
   "outputs": [],
   "source": []
  },
  {
   "cell_type": "code",
   "execution_count": null,
   "id": "89681be1-5ba7-459c-89a4-5ac5bfbe1eb7",
   "metadata": {},
   "outputs": [],
   "source": []
  },
  {
   "cell_type": "markdown",
   "id": "21bfee0a-0780-4513-a87a-0e41e4f5e6bf",
   "metadata": {},
   "source": [
    "## CVXOPT"
   ]
  },
  {
   "cell_type": "code",
   "execution_count": 48,
   "id": "2a9a9e3f-4603-4582-9d23-481e494cdada",
   "metadata": {},
   "outputs": [
    {
     "name": "stdout",
     "output_type": "stream",
     "text": [
      "<484x1 matrix, tc='d'> <1x484 matrix, tc='d'> <1x1 matrix, tc='d'> <968x484 matrix, tc='d'> <968x1 matrix, tc='d'>\n",
      "(121,) (9, 121)\n"
     ]
    }
   ],
   "source": [
    "# cvx_try(X, y, X_test, y_test, which, C=1.0, gamma=0.04, coef0= 0.0, degree=3, threshold=1e-4):\n",
    "legr, suppX, suppy, test_pred, acc = cvx_try(train_X, train_y, test_X, test_y, which='poly', C=0.01, gamma=1000, degree=1)"
   ]
  },
  {
   "cell_type": "code",
   "execution_count": 51,
   "id": "2428bd38-316c-4ef0-a670-760148f7d010",
   "metadata": {},
   "outputs": [
    {
     "name": "stdout",
     "output_type": "stream",
     "text": [
      "Support vectors:  [array([-1.94047783, -0.59404481,  1.62592456,  1.31214335,  0.55917462,\n",
      "        2.77954685, -2.94160016,  0.09023557, -0.36688979,  0.34897057]), array([-1.69790865, -0.14900708, -1.45748286,  0.16046577,  0.4779497 ,\n",
      "       -2.35441859,  1.24388444, -1.09576342, -0.22069924,  1.37331691]), array([-1.62410951,  0.17525191,  0.78955537, -1.67133864,  0.97864023,\n",
      "       -0.49141539,  1.16826925,  0.60176822, -0.38505255,  0.74013041]), array([-1.55273591, -0.68410391, -0.76341679, -1.3259031 , -1.68824719,\n",
      "       -2.28984977,  1.29874316, -1.63046122, -0.63093164,  0.00850813]), array([-1.54261417,  0.30739635, -1.59332713,  1.46957368,  0.03795295,\n",
      "       -1.31261301, -0.59115292, -0.43047483, -0.49556236,  0.14898264]), array([-1.36257971, -1.96644095,  0.73256698,  0.64308138, -1.26743175,\n",
      "       -1.04431212, -2.08032059,  1.15287226,  2.57996889,  0.94873595]), array([-1.07836527,  0.48191267,  0.38393846,  2.38360899, -3.2936363 ,\n",
      "       -0.33769804, -0.84311013,  0.3249846 ,  0.18346617, -0.09942058]), array([-0.87331614, -0.16715287,  0.02539877, -1.35126468, -0.30536666,\n",
      "        1.14538313,  2.31585465,  1.13378624, -0.26333482, -0.16841028]), array([ 1.34038988, -1.24154295, -3.15608039,  1.47870173, -2.79963162,\n",
      "        1.65954014,  0.60293328, -0.48265476,  0.47713906, -0.49296996])]\n",
      "CVX score:  99.17355371900827\n"
     ]
    }
   ],
   "source": [
    "# threshold = 1e-4\n",
    "# ############ https://xavierbourretsicotte.github.io/SVM_implementation.html #########\n",
    "# #w parameter in vectorized form\n",
    "# w = ((train_y * idk).T @ train_X).reshape(-1,1)\n",
    "# #Selecting the set of indices S corresponding to non zero parameters\n",
    "# S = (idk > threshold).flatten()\n",
    "# #Computing b\n",
    "# b = train_y[S] - np.dot(train_X[S], w)\n",
    "# #Display results\n",
    "# # print('Alphas = ',idk[idk > threshold])\n",
    "# print('w = ', w.flatten())\n",
    "# print('b = ', b[0])\n",
    "\n",
    "# suppV = (suppX, suppy)\n",
    "# print(\"Support vectors: \", suppV)\n",
    "print(\"Support vectors: \", sorted(suppX, key=lambda x: x[0]))\n",
    "print(\"CVX score: \", acc)"
   ]
  },
  {
   "cell_type": "code",
   "execution_count": 54,
   "id": "2060ef52-be91-410f-9c47-dc45b9dc28f4",
   "metadata": {},
   "outputs": [
    {
     "name": "stdout",
     "output_type": "stream",
     "text": [
      "heck yeah\n"
     ]
    }
   ],
   "source": [
    "print('heck yeah')"
   ]
  },
  {
   "cell_type": "code",
   "execution_count": null,
   "id": "d8a089aa-5b55-422a-9449-9e7e1ca85e49",
   "metadata": {},
   "outputs": [],
   "source": []
  }
 ],
 "metadata": {
  "kernelspec": {
   "display_name": "Python 3",
   "language": "python",
   "name": "python3"
  },
  "language_info": {
   "codemirror_mode": {
    "name": "ipython",
    "version": 3
   },
   "file_extension": ".py",
   "mimetype": "text/x-python",
   "name": "python",
   "nbconvert_exporter": "python",
   "pygments_lexer": "ipython3",
   "version": "3.9.4"
  }
 },
 "nbformat": 4,
 "nbformat_minor": 5
}
