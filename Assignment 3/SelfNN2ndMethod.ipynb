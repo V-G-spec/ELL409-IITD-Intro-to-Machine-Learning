{
 "cells": [
  {
   "cell_type": "markdown",
   "id": "07412e84-02c6-4388-bbb5-d0cd5ca7f19f",
   "metadata": {},
   "source": [
    "# Imports"
   ]
  },
  {
   "cell_type": "code",
   "execution_count": 1,
   "id": "5937564c-d453-48e6-85dd-e9b4f57b2a89",
   "metadata": {
    "jupyter": {
     "source_hidden": true
    },
    "tags": []
   },
   "outputs": [],
   "source": [
    "import numpy as np\n",
    "from time import time\n",
    "import matplotlib.pyplot as plt\n",
    "import pandas as pd\n",
    "import math\n",
    "\n",
    "# https://towardsdatascience.com/math-neural-network-from-scratch-in-python-d6da9f29ce65"
   ]
  },
  {
   "cell_type": "markdown",
   "id": "0fdb9b73-369c-43da-adb5-84182c8ff47e",
   "metadata": {},
   "source": [
    "# Load the Data"
   ]
  },
  {
   "cell_type": "code",
   "execution_count": 2,
   "id": "76c21507-7afe-48a3-a149-b8f1b407417d",
   "metadata": {
    "jupyter": {
     "source_hidden": true
    },
    "tags": []
   },
   "outputs": [],
   "source": [
    "#<Something>"
   ]
  },
  {
   "cell_type": "markdown",
   "id": "14c54d48-ec6f-431b-ba64-4108a9cce139",
   "metadata": {},
   "source": [
    "# Let's get started"
   ]
  },
  {
   "cell_type": "markdown",
   "id": "977582a9-2733-4bc8-8b31-f3e846caf558",
   "metadata": {},
   "source": [
    "## Utility functions"
   ]
  },
  {
   "cell_type": "code",
   "execution_count": 8,
   "id": "8e8e037b-1b40-47a2-842e-c8f98ca04aa9",
   "metadata": {},
   "outputs": [],
   "source": [
    "def get_folds_idx(N, nFolds, seed=42):\n",
    "    \"\"\"\n",
    "    Randomly permute [0,N] and extract indices for each fold\n",
    "    \"\"\"\n",
    "    np.random.seed(seed)\n",
    "    rnd_idx = np.random.permutation(N)\n",
    "    N_fold = N//nFolds\n",
    "    indices = []\n",
    "    for i in range(nFolds):\n",
    "        start = i*N_fold\n",
    "        end = min([(i+1)*N_fold, N])\n",
    "        # if (N<end):\n",
    "        #     end = N\n",
    "        indices.append(rnd_idx[start:end])\n",
    "    return indices\n",
    "\n",
    "\n",
    "def showImage(img, label):\n",
    "    ficAr = np.array(img, dtype='float')\n",
    "    roughSd = int(math.sqrt(img.size))\n",
    "    pic = picAr.reshape((roughSd, roughSd)).T\n",
    "    # plt.imshow(pix, cmap='gray')\n",
    "    plt.imshow(pix)\n",
    "    lb = str(label)\n",
    "    plt.title('label for this image is',lb)\n",
    "    # print(label)\n",
    "    plt.show()\n",
    "\n",
    "    \n",
    "def act_fn(typ, Z):\n",
    "    \"\"\"\n",
    "    Arguments:\n",
    "    typ -- sigmoid/RELU\n",
    "    Z -- numpy array of any shape\n",
    "    \n",
    "    Returns:\n",
    "    A -- output of sigmoid(z)/RELU(z), same shape as Z\n",
    "    \"\"\"\n",
    "    if (typ.lower()=='sigmoid'):\n",
    "        a = 1/(1+np.exp(-Z))\n",
    "        return a\n",
    "    elif (typ.lower()=='relu'):\n",
    "        a = np.maximum(0,Z)\n",
    "        assert(a.shape == Z.shape)\n",
    "        return a\n",
    "    elif (typ.lower()=='tanh'):\n",
    "        return np.tanh(Z)\n",
    "\n",
    "    \n",
    "def back_fn(typ, Z):\n",
    "    if (typ.lower()=='relu'):\n",
    "        dZ = np.array(Z, copy=True)\n",
    "        # When z <= 0, set dz to 0. \n",
    "        dZ[Z <= 0] = 0\n",
    "        assert (dZ.shape == Z.shape)\n",
    "        return dZ\n",
    "    elif (typ.lower()=='sigmoid'):\n",
    "        dZ = np.exp(-Z)/(1+np.exp(-Z))**2\n",
    "        assert (dZ.shape == Z.shape)\n",
    "        return dZ\n",
    "    elif (typ.lower()=='tanh'):\n",
    "        dZ = 1-np.tanh(Z)**2\n",
    "        return dZ\n",
    "\n",
    "    \n",
    "def forCost(typ, logits, y):\n",
    "    assert(y.shape==logits.shape)\n",
    "    if (typ.lower()=='mse'):\n",
    "        delt = np.power(y-logits,2)\n",
    "        ret= np.sum(delt)\n",
    "        ret/=y.shape\n",
    "    elif (typ.lower()=='sse'):\n",
    "        delt = np.power(y-logits,2)\n",
    "        ret= np.sum(delt)\n",
    "        ret/=2\n",
    "    else:\n",
    "        print(Lmao ded, gonna get an error)\n",
    "    return ret\n",
    "\n",
    "\n",
    "def backCost(typ, logits, y):\n",
    "    if (typ.lower()=='mse'):\n",
    "        delt=(logits-y)\n",
    "        ret = 2*delt/y.size\n",
    "    elif (typ.lower()=='sse'):\n",
    "        ret = logits-y\n",
    "    return ret"
   ]
  },
  {
   "cell_type": "markdown",
   "id": "07395766-6245-4eeb-af13-9822f7806d76",
   "metadata": {},
   "source": [
    "## Class (Cuz I'm fancy)"
   ]
  },
  {
   "cell_type": "code",
   "execution_count": null,
   "id": "9822307d-325b-4a36-80a2-8af7a5adc1cb",
   "metadata": {
    "tags": []
   },
   "outputs": [],
   "source": []
  },
  {
   "cell_type": "code",
   "execution_count": null,
   "id": "796aaa79-1b06-4030-8713-08ddbb60b4e2",
   "metadata": {},
   "outputs": [],
   "source": []
  }
 ],
 "metadata": {
  "kernelspec": {
   "display_name": "Python 3",
   "language": "python",
   "name": "python3"
  },
  "language_info": {
   "codemirror_mode": {
    "name": "ipython",
    "version": 3
   },
   "file_extension": ".py",
   "mimetype": "text/x-python",
   "name": "python",
   "nbconvert_exporter": "python",
   "pygments_lexer": "ipython3",
   "version": "3.9.4"
  }
 },
 "nbformat": 4,
 "nbformat_minor": 5
}
