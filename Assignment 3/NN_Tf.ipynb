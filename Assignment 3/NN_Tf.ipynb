{
 "cells": [
  {
   "cell_type": "code",
   "execution_count": null,
   "id": "27904e36-501f-4109-881e-4381ccbf8f7d",
   "metadata": {},
   "outputs": [],
   "source": [
    "import pandas as pd\n",
    "from keras.models import Sequential\n",
    "from keras.layers import Dense\n",
    "from keras.utils import np_utils"
   ]
  },
  {
   "cell_type": "code",
   "execution_count": null,
   "id": "02b476a9-bc90-4100-bed3-6ac1425608bc",
   "metadata": {},
   "outputs": [],
   "source": [
    "split_frac = 8\n",
    "\n",
    "df = pd.read_csv(\"2019EE10143.csv\",header=None)\n",
    "data = np.array(df.values)\n",
    "sz = len(data) ;\n",
    "le = (len(data)*split_frac)//10\n",
    "\n",
    "train_data = data[:le,:784]\n",
    "train_label = data[:le,784] \n",
    "train_label = np_utils.to_categorical(train_label)\n",
    "\n",
    "test_data = data[le:,:784]\n",
    "test_label = data[le:,784]\n",
    "test_label = np_utils.to_categorical(test_label)"
   ]
  },
  {
   "cell_type": "code",
   "execution_count": null,
   "id": "ffac1f21-fa0f-46cd-8950-7583c694e1ab",
   "metadata": {},
   "outputs": [],
   "source": [
    "def get_model():\n",
    "    sgd  = keras.optimizers.SGD(lr=0.1)\n",
    "    model = keras.Sequential([\n",
    "        keras.layers.Dense(100, activation='relu'),\n",
    "        keras.layers.Dense(30, activation='relu'),\n",
    "        keras.layers.Dense(10, activation='sigmoid')\n",
    "    ])\n",
    "\n",
    "    # Compile model\n",
    "    model.compile(loss='categorical_crossentropy', optimizer='sgd', metrics=['mean_squared_error'])\n",
    "    return model"
   ]
  },
  {
   "cell_type": "code",
   "execution_count": null,
   "id": "54ff3b8c-e3d1-4366-9950-dc4f04c40553",
   "metadata": {},
   "outputs": [],
   "source": [
    "model = get_model()\n",
    "model.fit(train_data, train_label, batch_size=20, epochs=50, verbose = 0)\n",
    "test_loss, test_acc = model.evaluate(test_data,  test_label, batch_size = 1, verbose = 2)"
   ]
  },
  {
   "cell_type": "code",
   "execution_count": null,
   "id": "401cfcbb-1441-40e4-88bc-83410f19bcff",
   "metadata": {},
   "outputs": [],
   "source": []
  },
  {
   "cell_type": "code",
   "execution_count": null,
   "id": "803d6663-a4f4-4959-acad-e8bc6f4b1d33",
   "metadata": {},
   "outputs": [],
   "source": []
  },
  {
   "cell_type": "code",
   "execution_count": null,
   "id": "91e7b145-654c-419c-b359-207d6ec00d64",
   "metadata": {},
   "outputs": [],
   "source": []
  },
  {
   "cell_type": "code",
   "execution_count": null,
   "id": "f0b3a60f-f601-43db-a39c-4c3d0580f137",
   "metadata": {},
   "outputs": [],
   "source": []
  },
  {
   "cell_type": "code",
   "execution_count": null,
   "id": "7ab745bb-1218-43b5-babe-452557977575",
   "metadata": {},
   "outputs": [],
   "source": []
  }
 ],
 "metadata": {
  "kernelspec": {
   "display_name": "Python 3",
   "language": "python",
   "name": "python3"
  },
  "language_info": {
   "codemirror_mode": {
    "name": "ipython",
    "version": 3
   },
   "file_extension": ".py",
   "mimetype": "text/x-python",
   "name": "python",
   "nbconvert_exporter": "python",
   "pygments_lexer": "ipython3",
   "version": "3.9.4"
  }
 },
 "nbformat": 4,
 "nbformat_minor": 5
}
