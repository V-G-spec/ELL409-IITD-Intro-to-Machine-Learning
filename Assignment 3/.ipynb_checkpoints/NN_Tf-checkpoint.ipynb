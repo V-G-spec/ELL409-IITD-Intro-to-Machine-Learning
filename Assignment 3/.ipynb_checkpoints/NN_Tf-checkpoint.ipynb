{
 "cells": [
  {
   "cell_type": "code",
   "execution_count": null,
   "id": "27904e36-501f-4109-881e-4381ccbf8f7d",
   "metadata": {},
   "outputs": [],
   "source": [
    "import pandas as pd\n",
    "# !pip install keras\n",
    "import keras\n",
    "import tensorflow as tf\n",
    "from keras.models import Sequential\n",
    "from keras.layers import Dense\n",
    "from keras.utils import np_utils\n",
    "from scipy import stats\n",
    "from sklearn.metrics import confusion_matrix, classification_report"
   ]
  },
  {
   "cell_type": "code",
   "execution_count": null,
   "id": "02b476a9-bc90-4100-bed3-6ac1425608bc",
   "metadata": {},
   "outputs": [],
   "source": [
    "split_frac = 8\n",
    "\n",
    "df = pd.read_csv('2019EE10143.csv',header=None)\n",
    "data = np.array(df.values)\n",
    "sz = len(data) ;\n",
    "le = (len(data)*split_frac)//10\n",
    "\n",
    "train_data = data[:le,:784]\n",
    "train_label = data[:le,784] \n",
    "train_label = np_utils.to_categorical(train_label)\n",
    "\n",
    "test_data = data[le:,:784]\n",
    "test_label = data[le:,784]\n",
    "test_label = np_utils.to_categorical(test_label)\n",
    "\n",
    "print(train_data.shape, test_data.shape)"
   ]
  },
  {
   "cell_type": "code",
   "execution_count": null,
   "id": "ffac1f21-fa0f-46cd-8950-7583c694e1ab",
   "metadata": {},
   "outputs": [],
   "source": [
    "def get_model():\n",
    "    sgd  = tf.keras.optimizers.SGD(lr=0.1)\n",
    "    model = keras.Sequential([\n",
    "        keras.layers.Dense(256, activation='relu'),\n",
    "        keras.layers.Dense(64, activation='relu'),\n",
    "        keras.layers.Dense(10, activation='softmax')\n",
    "    ])\n",
    "\n",
    "    # Compile model\n",
    "    model.compile(loss='categorical_crossentropy', optimizer='sgd', metrics=['mean_squared_error'])\n",
    "    return model"
   ]
  },
  {
   "cell_type": "code",
   "execution_count": null,
   "id": "54ff3b8c-e3d1-4366-9950-dc4f04c40553",
   "metadata": {},
   "outputs": [],
   "source": [
    "model = get_model()\n",
    "model.fit(train_data, train_label, batch_size=30, epochs=50, verbose = 2)"
   ]
  },
  {
   "cell_type": "code",
   "execution_count": null,
   "id": "401cfcbb-1441-40e4-88bc-83410f19bcff",
   "metadata": {},
   "outputs": [],
   "source": [
    "y_pred = model.predict(test_data)\n",
    "test_acc = np.sum(np.argmax(y_p)==np.argmax(test_l) for (y_p, test_l) in zip(y_pred, test_label))\n",
    "test_acc /= len(test_label)\n",
    "print(test_acc)"
   ]
  },
  {
   "cell_type": "code",
   "execution_count": null,
   "id": "803d6663-a4f4-4959-acad-e8bc6f4b1d33",
   "metadata": {},
   "outputs": [],
   "source": [
    "y_pred = model.predict(train_data)\n",
    "train_acc = np.sum(np.argmax(y_p)==np.argmax(train_l) for (y_p, train_l) in zip(y_pred, train_label))\n",
    "train_acc /= len(train_label)\n",
    "print(train_acc)"
   ]
  },
  {
   "cell_type": "code",
   "execution_count": null,
   "id": "91e7b145-654c-419c-b359-207d6ec00d64",
   "metadata": {},
   "outputs": [],
   "source": [
    "true_labels = []\n",
    "predicted_labels= []\n",
    "for y_p in y_pred:\n",
    "    predicted_labels = np.append(predicted_labels, np.argmax(y_p))\n",
    "for y_p in test_label:\n",
    "    true_labels = np.append(true_labels, np.argmax(y_p))\n",
    "assert(true_labels.shape == predicted_labels.shape)"
   ]
  },
  {
   "cell_type": "code",
   "execution_count": null,
   "id": "f0b3a60f-f601-43db-a39c-4c3d0580f137",
   "metadata": {},
   "outputs": [],
   "source": [
    "lebels = [0, 1, 2, 3,4,5,6,7,8,9]\n",
    "cm = confusion_matrix(true_labels, predicted_labels, labels=lebels)\n",
    "print(classification_report(true_labels, predicted_labels))\n",
    "print(\"Confusion matrix\")\n",
    "print(cm)"
   ]
  },
  {
   "cell_type": "code",
   "execution_count": null,
   "id": "7ab745bb-1218-43b5-babe-452557977575",
   "metadata": {},
   "outputs": [],
   "source": [
    "def showImage(img, pred, true=None):\n",
    "    plt.figure(figsize=(1,1))\n",
    "    picAr = np.array(img, dtype='float')\n",
    "    roughSd = int(math.sqrt(img.size))\n",
    "    assert(roughSd==28)\n",
    "    pic = picAr.reshape((roughSd, roughSd)).T\n",
    "    plt.imshow(pic) #cmap='grey'\n",
    "    lbp = str(int(pred))\n",
    "    if (true!=None):\n",
    "        lb = str(int(true))\n",
    "        plt.title('True label is: %s \\n Predicted label is: %s'%(lb, lbp))\n",
    "    else:\n",
    "        plt.title('Predicted label is: %s'%(lbp))\n",
    "    \n",
    "    plt.show()"
   ]
  },
  {
   "cell_type": "code",
   "execution_count": null,
   "id": "0937560a-9496-46c8-b211-b7b067be040f",
   "metadata": {},
   "outputs": [],
   "source": [
    "for i, y_p in enumerate(predicted_labels):\n",
    "    if (y_p!=true_labels[i]):\n",
    "        showImage(test_data[i], y_p, true_labels[i])"
   ]
  }
 ],
 "metadata": {
  "kernelspec": {
   "display_name": "Python 3",
   "language": "python",
   "name": "python3"
  },
  "language_info": {
   "codemirror_mode": {
    "name": "ipython",
    "version": 3
   },
   "file_extension": ".py",
   "mimetype": "text/x-python",
   "name": "python",
   "nbconvert_exporter": "python",
   "pygments_lexer": "ipython3",
   "version": "3.9.4"
  }
 },
 "nbformat": 4,
 "nbformat_minor": 5
}
